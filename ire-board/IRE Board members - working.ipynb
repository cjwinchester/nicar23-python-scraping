{
 "cells": [
  {
   "cell_type": "markdown",
   "id": "4917bfba",
   "metadata": {},
   "source": [
    "# IRE Board members\n",
    "\n",
    "The goal: Scrape [this list of IRE board members](https://www.ire.org/about-ire/past-ire-board-members/) into a CSV.\n",
    "\n",
    "This project introduces a few new concepts:\n",
    "- Scraping data that's not part of a table\n",
    "- Specifying custom request headers to evade a bot detection rule on our server\n",
    "- Using string methods and default values when parsing out the data\n",
    "\n",
    "[The completed version is here](IRE%20Board%20members%20-%20complete.ipynb).\n",
    "\n",
    "([See also this standalone version featuring a few more advanced techniques](/edit/ire-board/ire_board_scrape.py).)"
   ]
  },
  {
   "cell_type": "code",
   "execution_count": null,
   "id": "bfd3d8c7",
   "metadata": {},
   "outputs": [],
   "source": [
    "# stdlib library we'll use to write the CSV file\n",
    "import csv\n",
    "\n",
    "# installed library to handle the HTTP traffic\n",
    "import requests\n",
    "\n",
    "# installed library to parse the HTML\n",
    "from bs4 import BeautifulSoup"
   ]
  },
  {
   "cell_type": "code",
   "execution_count": null,
   "id": "1acd7756",
   "metadata": {},
   "outputs": [],
   "source": [
    "URL = 'https://www.ire.org/about-ire/past-ire-board-members/'"
   ]
  },
  {
   "cell_type": "code",
   "execution_count": null,
   "id": "434e47d8",
   "metadata": {},
   "outputs": [],
   "source": [
    "# make the request\n",
    "\n",
    "# check for HTTP errors"
   ]
  },
  {
   "cell_type": "code",
   "execution_count": null,
   "id": "accded42",
   "metadata": {},
   "outputs": [],
   "source": [
    "# set up request headers with a custom user-agent string\n"
   ]
  },
  {
   "cell_type": "code",
   "execution_count": null,
   "id": "03294e7e",
   "metadata": {},
   "outputs": [],
   "source": [
    "# try the request again, with the new headers\n",
    "\n",
    "\n",
    "# and raise for errors\n"
   ]
  },
  {
   "cell_type": "code",
   "execution_count": null,
   "id": "e5c65871",
   "metadata": {},
   "outputs": [],
   "source": [
    "# parse the HTML into soup\n"
   ]
  },
  {
   "cell_type": "code",
   "execution_count": null,
   "id": "7c3f3e35",
   "metadata": {},
   "outputs": [],
   "source": []
  },
  {
   "cell_type": "code",
   "execution_count": null,
   "id": "73db6014",
   "metadata": {},
   "outputs": [],
   "source": [
    "# search the HTML tree to find the div\n",
    "# with the `id` attribute of \"past-ire-board-members\"\n"
   ]
  },
  {
   "cell_type": "code",
   "execution_count": null,
   "id": "df88000b",
   "metadata": {},
   "outputs": [],
   "source": []
  },
  {
   "cell_type": "code",
   "execution_count": null,
   "id": "4ad3f74f",
   "metadata": {},
   "outputs": [],
   "source": [
    "# within that div, find all the paragraph tags\n"
   ]
  },
  {
   "cell_type": "code",
   "execution_count": null,
   "id": "7b51b34b",
   "metadata": {},
   "outputs": [],
   "source": []
  },
  {
   "cell_type": "code",
   "execution_count": null,
   "id": "c0058f3a",
   "metadata": {},
   "outputs": [],
   "source": [
    "# noodle around here to isolate the pieces of data for export"
   ]
  },
  {
   "cell_type": "code",
   "execution_count": null,
   "id": "6ec1c43b",
   "metadata": {},
   "outputs": [],
   "source": []
  },
  {
   "cell_type": "code",
   "execution_count": null,
   "id": "a8373c6c",
   "metadata": {},
   "outputs": [],
   "source": []
  },
  {
   "cell_type": "code",
   "execution_count": null,
   "id": "7cfb1966",
   "metadata": {},
   "outputs": [],
   "source": []
  },
  {
   "cell_type": "code",
   "execution_count": null,
   "id": "f35f134d",
   "metadata": {},
   "outputs": [],
   "source": []
  },
  {
   "cell_type": "code",
   "execution_count": null,
   "id": "cb711ee3",
   "metadata": {},
   "outputs": [],
   "source": [
    "# set up the CSV headers to write to file\n"
   ]
  },
  {
   "cell_type": "code",
   "execution_count": null,
   "id": "787cb02f",
   "metadata": {},
   "outputs": [],
   "source": [
    "# next, set up the file to write the CSV data into\n",
    "# https://docs.python.org/3/library/csv.html#csv.writer\n",
    "\n",
    "# open the CSV file in write ('w') mode, specifying newline='' to deal with\n",
    "# potential PC-only line ending problem\n",
    "\n",
    "\n",
    "    # set up a csv.writer object tied to the file we just opened\n",
    "\n",
    "\n",
    "    # write the list of headers\n",
    "\n",
    "\n",
    "    # loop over the list of paragraphs we targeted above\n",
    "\n",
    "\n",
    "        # we don't want the entire Tag object, just the text\n",
    "\n",
    "\n",
    "        # set up some default values -- the member was not president\n",
    "\n",
    "\n",
    "        # and is not deceased\n",
    "\n",
    "\n",
    "        # IRE denotes past presidents with a leading asterisk\n",
    "        # so check to see if the string startswith '*'\n",
    "        # https://docs.python.org/3/library/stdtypes.html?highlight=startswith#str.startswith\n",
    "\n",
    "\n",
    "            # if so, switch the value for the `was_president` variable to True\n",
    "\n",
    "\n",
    "        # check to see if \"(dec)\" is anywhere in the text, which\n",
    "        # indicates this person is deceased\n",
    "        # https://docs.python.org/3/reference/expressions.html#in\n",
    "\n",
    "\n",
    "        # next, start parsing out the pieces\n",
    "        # separate the name from the terms by splitting on \"(\"\n",
    "\n",
    "\n",
    "        # the name will be the first ([0]) item in the resulting list\n",
    "        # while we're at it, strip off any leading asterisks\n",
    "        # https://docs.python.org/3/library/stdtypes.html?highlight=lstrip#str.lstrip\n",
    "        # and strip() off any leading or trailing whitespace\n",
    "        # https://docs.python.org/3/library/stdtypes.html?highlight=lstrip#str.strip\n",
    "\n",
    "\n",
    "        # the term(s) of service will be the second item ([1]) in that list\n",
    "        # and the term text is always terminated with a closing parens\n",
    "        # so splitting on that closing parens and taking the first ([0])\n",
    "        # item in the list will give us the term(s)\n",
    "\n",
    "\n",
    "        # put the collected data into a list\n",
    "\n",
    "\n",
    "        # and write this row of data into the CSV file\n"
   ]
  }
 ],
 "metadata": {
  "kernelspec": {
   "display_name": "Python 3 (ipykernel)",
   "language": "python",
   "name": "python3"
  },
  "language_info": {
   "codemirror_mode": {
    "name": "ipython",
    "version": 3
   },
   "file_extension": ".py",
   "mimetype": "text/x-python",
   "name": "python",
   "nbconvert_exporter": "python",
   "pygments_lexer": "ipython3",
   "version": "3.10.9"
  }
 },
 "nbformat": 4,
 "nbformat_minor": 5
}
