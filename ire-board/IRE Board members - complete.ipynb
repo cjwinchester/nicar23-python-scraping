{
 "cells": [
  {
   "cell_type": "markdown",
   "id": "4917bfba",
   "metadata": {},
   "source": [
    "# IRE Board members\n",
    "\n",
    "The goal: Scrape [this list of IRE board members](https://www.ire.org/about-ire/past-ire-board-members/) into a CSV.\n",
    "\n",
    "This project introduces a few new concepts:\n",
    "- Scraping data that's not part of a table\n",
    "- Specifying custom request headers to evade a bot detection rule on our server\n",
    "- Using string methods and default values when parsing out the data"
   ]
  },
  {
   "cell_type": "code",
   "execution_count": null,
   "id": "bfd3d8c7",
   "metadata": {},
   "outputs": [],
   "source": [
    "# stdlib library we'll use to write the CSV file\n",
    "import csv\n",
    "\n",
    "# installed library to handle the HTTP traffic\n",
    "import requests\n",
    "\n",
    "# installed library to parse the HTML\n",
    "from bs4 import BeautifulSoup"
   ]
  },
  {
   "cell_type": "code",
   "execution_count": null,
   "id": "1acd7756",
   "metadata": {},
   "outputs": [],
   "source": [
    "URL = 'https://www.ire.org/about-ire/past-ire-board-members/'"
   ]
  },
  {
   "cell_type": "code",
   "execution_count": null,
   "id": "accded42",
   "metadata": {},
   "outputs": [],
   "source": [
    "# set up request headers\n",
    "# the IRE website rejects incoming requests with the\n",
    "# `requests` library's default user-agent, so we\n",
    "# need to pretend to be a browser -- we can do that by\n",
    "# setting the `User-Agent` value to mimic a value that\n",
    "# a browser would send, and add this to the headers\n",
    "# of the request before it's sent\n",
    "# read more: https://developer.mozilla.org/en-US/docs/Web/HTTP/Headers/User-Agent\n",
    "headers = {\n",
    "    'User-Agent': 'Mozilla/5.0 (Windows NT 10.0; Win64; x64) AppleWebKit/537.36 (KHTML, like Gecko) Chrome/80.0.3987.163 Safari/537.36'\n",
    "}"
   ]
  },
  {
   "cell_type": "code",
   "execution_count": null,
   "id": "03294e7e",
   "metadata": {},
   "outputs": [],
   "source": [
    "# send a GET request to fetch the page using the headers we just created\n",
    "r = requests.get(\n",
    "    'https://www.ire.org/about-ire/past-ire-board-members/',\n",
    "    headers=headers\n",
    ")\n",
    "\n",
    "# raise an error if the HTTP request returns an error code\n",
    "# HTTP codes: https://http.cat\n",
    "r.raise_for_status()"
   ]
  },
  {
   "cell_type": "code",
   "execution_count": null,
   "id": "e5c65871",
   "metadata": {},
   "outputs": [],
   "source": [
    "# use the BeautifulSoup object to parse the response text\n",
    "# -- r.text -- with the default HTML parser\n",
    "# https://www.crummy.com/software/BeautifulSoup/bs4/doc/#specifying-the-parser-to-use\n",
    "soup = BeautifulSoup(r.text, 'html.parser')"
   ]
  },
  {
   "cell_type": "code",
   "execution_count": null,
   "id": "400f25c3",
   "metadata": {},
   "outputs": [],
   "source": [
    "print(soup)"
   ]
  },
  {
   "cell_type": "code",
   "execution_count": null,
   "id": "73db6014",
   "metadata": {},
   "outputs": [],
   "source": [
    "# search the HTML tree to find the div\n",
    "# with the `id` attribute of \"past-ire-board-members\"\n",
    "target_div = soup.find(\n",
    "    'div',\n",
    "    {'id': 'past-ire-board-members'}\n",
    ")"
   ]
  },
  {
   "cell_type": "code",
   "execution_count": null,
   "id": "df88000b",
   "metadata": {},
   "outputs": [],
   "source": [
    "print(target_div)"
   ]
  },
  {
   "cell_type": "code",
   "execution_count": null,
   "id": "4ad3f74f",
   "metadata": {},
   "outputs": [],
   "source": [
    "# within that div, find all the paragraph tags\n",
    "members = target_div.find_all('p')"
   ]
  },
  {
   "cell_type": "code",
   "execution_count": null,
   "id": "7b51b34b",
   "metadata": {},
   "outputs": [],
   "source": [
    "members"
   ]
  },
  {
   "cell_type": "code",
   "execution_count": null,
   "id": "cb711ee3",
   "metadata": {},
   "outputs": [],
   "source": [
    "# set up the CSV headers to write to file\n",
    "csv_headers = [\n",
    "    'name',\n",
    "    'terms',\n",
    "    'was_president',\n",
    "    'is_deceased'\n",
    "]"
   ]
  },
  {
   "cell_type": "code",
   "execution_count": null,
   "id": "787cb02f",
   "metadata": {},
   "outputs": [],
   "source": [
    "# next, set up the file to write the CSV data into\n",
    "# https://docs.python.org/3/library/csv.html#csv.writer\n",
    "\n",
    "# open the CSV file in write ('w') mode, specifying newline='' to deal with\n",
    "# potential PC-only line ending problem\n",
    "with open('ire-board.csv', 'w', newline='') as outfile:\n",
    "\n",
    "    # set up a csv.writer object tied to the file we just opened\n",
    "    writer = csv.writer(outfile)\n",
    "\n",
    "    # write the list of headers\n",
    "    writer.writerow(csv_headers)\n",
    "\n",
    "    # loop over the list of paragraphs we targeted above\n",
    "    for member in members:\n",
    "\n",
    "        # we don't want the entire Tag object, just the text\n",
    "        text = member.text\n",
    "\n",
    "        # set up some default values -- the member was not president\n",
    "        was_president = False\n",
    "\n",
    "        # and is not deceased\n",
    "        is_deceased = False\n",
    "\n",
    "        # IRE denotes past presidents with a leading asterisk\n",
    "        # so check to see if the string startswith '*'\n",
    "        # https://docs.python.org/3/library/stdtypes.html?highlight=startswith#str.startswith\n",
    "        if text.startswith('*'):\n",
    "\n",
    "            # if so, switch the value for the `was_president` variable to True\n",
    "            was_president = True\n",
    "\n",
    "        # check to see if \"(dec)\" is anywhere in the text, which\n",
    "        # indicates this person is deceased\n",
    "        # https://docs.python.org/3/reference/expressions.html#in\n",
    "        if '(dec)' in text:\n",
    "            is_deceased = True\n",
    "\n",
    "        # next, start parsing out the pieces\n",
    "        # separate the name from the terms by splitting on \"(\"\n",
    "        text_split = text.split('(')\n",
    "\n",
    "        # the name will be the first ([0]) item in the resulting list\n",
    "        # while we're at it, strip off any leading asterisks\n",
    "        # https://docs.python.org/3/library/stdtypes.html?highlight=lstrip#str.lstrip\n",
    "        # and strip() off any leading or trailing whitespace\n",
    "        # https://docs.python.org/3/library/stdtypes.html?highlight=lstrip#str.strip\n",
    "        name = text_split[0].lstrip('*').strip()\n",
    "\n",
    "        # the term(s) of service will be the second item ([1]) in that list\n",
    "        # and the term text is always terminated with a closing parens\n",
    "        # so splitting on that closing parens and taking the first ([0])\n",
    "        # item in the list will give us the term(s)\n",
    "        terms = text_split[1].split(')')[0]\n",
    "\n",
    "        # put the collected data into a list\n",
    "        data = [\n",
    "            name,\n",
    "            terms,\n",
    "            was_president,\n",
    "            is_deceased\n",
    "        ]\n",
    "\n",
    "        # and write this row of data into the CSV file\n",
    "        writer.writerow(data)"
   ]
  }
 ],
 "metadata": {
  "kernelspec": {
   "display_name": "Python 3 (ipykernel)",
   "language": "python",
   "name": "python3"
  },
  "language_info": {
   "codemirror_mode": {
    "name": "ipython",
    "version": 3
   },
   "file_extension": ".py",
   "mimetype": "text/x-python",
   "name": "python",
   "nbconvert_exporter": "python",
   "pygments_lexer": "ipython3",
   "version": "3.10.9"
  }
 },
 "nbformat": 4,
 "nbformat_minor": 5
}
