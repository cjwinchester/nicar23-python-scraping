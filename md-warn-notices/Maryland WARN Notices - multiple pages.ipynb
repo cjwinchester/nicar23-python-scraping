{
 "cells": [
  {
   "cell_type": "markdown",
   "id": "8fa7c11c",
   "metadata": {},
   "source": [
    "# Maryland WARN Notices - multiple pages\n",
    "\n",
    "Extra credit: Figure out how to target and extract WARN data for multiple years. The process:\n",
    "- Using `requests`, fetch the main page\n",
    "- Using `bs4`, target the list of links to pages with data for previous years\n",
    "- Using a `for` loop, iterate over each link\n",
    "    - Fetch the page\n",
    "    - Turn the contents into `soup`\n",
    "    - Target the elements to extract\n",
    "    - Add the parsed data to your list"
   ]
  },
  {
   "cell_type": "code",
   "execution_count": null,
   "id": "7b6c6fb2",
   "metadata": {},
   "outputs": [],
   "source": []
  }
 ],
 "metadata": {
  "kernelspec": {
   "display_name": "Python 3 (ipykernel)",
   "language": "python",
   "name": "python3"
  },
  "language_info": {
   "codemirror_mode": {
    "name": "ipython",
    "version": 3
   },
   "file_extension": ".py",
   "mimetype": "text/x-python",
   "name": "python",
   "nbconvert_exporter": "python",
   "pygments_lexer": "ipython3",
   "version": "3.10.9"
  }
 },
 "nbformat": 4,
 "nbformat_minor": 5
}
