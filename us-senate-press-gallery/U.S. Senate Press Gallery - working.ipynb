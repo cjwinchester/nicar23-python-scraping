{
 "cells": [
  {
   "cell_type": "markdown",
   "id": "05412996",
   "metadata": {},
   "source": [
    "# U.S. Senate press gallery\n",
    "\n",
    "The goal: [Scrape the list of journalists accredited to cover the U.S. Senate](https://www.dailypress.senate.gov/membership/membership-lists/) into a CSV. Some spelunking in the source code will show a table ready for extraction.\n",
    "\n",
    "[Here's the completed version](U.S.%20Senate%20Press%20Gallery%20-%20complete.ipynb)."
   ]
  },
  {
   "cell_type": "code",
   "execution_count": 1,
   "id": "4c67ce4d",
   "metadata": {},
   "outputs": [],
   "source": [
    "# import libs\n",
    "import csv\n",
    "\n",
    "import requests\n",
    "from bs4 import BeautifulSoup"
   ]
  },
  {
   "cell_type": "code",
   "execution_count": 2,
   "id": "99adeb32",
   "metadata": {},
   "outputs": [],
   "source": [
    "# define the list of headers for the CSV\n",
    "headers = [\n",
    "    'first',\n",
    "    'last',\n",
    "    'affiliation'\n",
    "]"
   ]
  },
  {
   "cell_type": "code",
   "execution_count": 3,
   "id": "a9744eb7",
   "metadata": {},
   "outputs": [],
   "source": [
    "# make the request\n"
   ]
  },
  {
   "cell_type": "code",
   "execution_count": 6,
   "id": "8e710003",
   "metadata": {},
   "outputs": [],
   "source": [
    "# turn the HTML into soup\n",
    "\n",
    "\n",
    "# find the table\n",
    "\n",
    "\n",
    "# grab a list of table rows (minus the header)\n"
   ]
  },
  {
   "cell_type": "code",
   "execution_count": 9,
   "id": "e65af642",
   "metadata": {},
   "outputs": [],
   "source": [
    "# open a CSV file to write data into\n",
    "\n",
    "\n",
    "    # create a writer object\n",
    "\n",
    "\n",
    "    # write the list of headers to file\n",
    "\n",
    "\n",
    "    # loop over the rows\n",
    "\n",
    "\n",
    "        # find the cells in this row\n",
    "\n",
    "        \n",
    "        # extract each piece of data from the list\n",
    "        \n",
    "        # first name is the first ([0]) list item\n",
    "\n",
    "        \n",
    "        # last name is second ([1])\n",
    "\n",
    "\n",
    "        # affiliation is third ([2])\n",
    "\n",
    "\n",
    "        # write row to file\n"
   ]
  }
 ],
 "metadata": {
  "kernelspec": {
   "display_name": "Python 3 (ipykernel)",
   "language": "python",
   "name": "python3"
  },
  "language_info": {
   "codemirror_mode": {
    "name": "ipython",
    "version": 3
   },
   "file_extension": ".py",
   "mimetype": "text/x-python",
   "name": "python",
   "nbconvert_exporter": "python",
   "pygments_lexer": "ipython3",
   "version": "3.10.9"
  }
 },
 "nbformat": 4,
 "nbformat_minor": 5
}
